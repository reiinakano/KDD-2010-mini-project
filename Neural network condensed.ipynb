{
 "cells": [
  {
   "cell_type": "code",
   "execution_count": 1,
   "metadata": {
    "collapsed": false
   },
   "outputs": [
    {
     "name": "stderr",
     "output_type": "stream",
     "text": [
      "Using Theano backend.\n"
     ]
    }
   ],
   "source": [
    "import joblib\n",
    "import keras\n",
    "import numpy as np"
   ]
  },
  {
   "cell_type": "code",
   "execution_count": 2,
   "metadata": {
    "collapsed": false
   },
   "outputs": [
    {
     "data": {
      "text/plain": [
       "matrix([[ 0.8909911 ,  0.75005068,  0.7497068 , ...,  0.        ,\n",
       "          0.        ,  0.        ],\n",
       "        [ 0.8909911 ,  0.75005068,  0.7497068 , ...,  0.        ,\n",
       "          0.        ,  0.        ],\n",
       "        [ 0.8909911 ,  0.75005068,  0.7497068 , ...,  0.        ,\n",
       "          0.        ,  0.        ],\n",
       "        ..., \n",
       "        [ 0.88798993,  0.88168444,  0.88168444, ...,  0.        ,\n",
       "          0.        ,  0.        ],\n",
       "        [ 0.88798993,  0.88168444,  0.88168444, ...,  0.        ,\n",
       "          0.        ,  0.        ],\n",
       "        [ 0.88798993,  0.88168444,  0.88168444, ...,  0.        ,\n",
       "          0.        ,  0.        ]])"
      ]
     },
     "execution_count": 2,
     "metadata": {},
     "output_type": "execute_result"
    }
   ],
   "source": [
    "complete_features_matrix = joblib.load('files for cv/Pickles/Condensed_Basic+Temporal+Recency/train.pkl')\n",
    "complete_features_matrix"
   ]
  },
  {
   "cell_type": "code",
   "execution_count": 3,
   "metadata": {
    "collapsed": true
   },
   "outputs": [],
   "source": [
    "labels = joblib.load('algebra_2005_2008_pickles/labels.compressed')"
   ]
  },
  {
   "cell_type": "code",
   "execution_count": 4,
   "metadata": {
    "collapsed": true
   },
   "outputs": [],
   "source": [
    "train_index, test_index = joblib.load('files for cv/Pickles/cv_indices')\n"
   ]
  },
  {
   "cell_type": "code",
   "execution_count": 6,
   "metadata": {
    "collapsed": true
   },
   "outputs": [],
   "source": [
    "from keras.models import Sequential\n",
    "from keras.layers import Dense, Activation\n",
    "from keras.callbacks import ProgbarLogger\n",
    "\n",
    "model = Sequential([\n",
    "    Dense(14, input_dim=28),\n",
    "    Activation('sigmoid'),\n",
    "    Dense(1),\n",
    "    Activation('sigmoid'),\n",
    "])\n",
    "\n",
    "model.compile(loss='mean_squared_error', optimizer='rmsprop', metrics=['accuracy'])"
   ]
  },
  {
   "cell_type": "code",
   "execution_count": 7,
   "metadata": {
    "collapsed": false
   },
   "outputs": [
    {
     "name": "stdout",
     "output_type": "stream",
     "text": [
      "Train on 6362940 samples, validate on 2120980 samples\n",
      "Epoch 1/3\n",
      "6362940/6362940 [==============================] - 48s - loss: 0.0960 - acc: 0.8744 - val_loss: 0.0969 - val_acc: 0.8720\n",
      "Epoch 2/3\n",
      "6362940/6362940 [==============================] - 51s - loss: 0.0938 - acc: 0.8764 - val_loss: 0.0966 - val_acc: 0.8721\n",
      "Epoch 3/3\n",
      "6362940/6362940 [==============================] - 52s - loss: 0.0935 - acc: 0.8768 - val_loss: 0.0965 - val_acc: 0.8722\n"
     ]
    }
   ],
   "source": [
    "history = model.fit(complete_features_matrix, labels, \n",
    "                    nb_epoch=3, batch_size=128, \n",
    "                    verbose=1, validation_split=0.25)"
   ]
  },
  {
   "cell_type": "code",
   "execution_count": null,
   "metadata": {
    "collapsed": false
   },
   "outputs": [],
   "source": []
  },
  {
   "cell_type": "code",
   "execution_count": 7,
   "metadata": {
    "collapsed": true
   },
   "outputs": [],
   "source": [
    "test = joblib.load('files for cv/Pickles/Condensed_Basic+Temporal+Recency/test.pkl')"
   ]
  },
  {
   "cell_type": "code",
   "execution_count": 8,
   "metadata": {
    "collapsed": false
   },
   "outputs": [
    {
     "name": "stdout",
     "output_type": "stream",
     "text": [
      "508032/508912 [============================>.] - ETA: 0s"
     ]
    }
   ],
   "source": [
    "probas = model.predict_proba(verbose=1, x=test, batch_size=32)"
   ]
  },
  {
   "cell_type": "code",
   "execution_count": 9,
   "metadata": {
    "collapsed": false
   },
   "outputs": [
    {
     "data": {
      "text/plain": [
       "array([[ 0.77084881],\n",
       "       [ 0.80919737],\n",
       "       [ 0.78761005],\n",
       "       ..., \n",
       "       [ 0.66839451],\n",
       "       [ 0.8676281 ],\n",
       "       [ 0.90479183]], dtype=float32)"
      ]
     },
     "execution_count": 9,
     "metadata": {},
     "output_type": "execute_result"
    }
   ],
   "source": [
    "probas"
   ]
  },
  {
   "cell_type": "code",
   "execution_count": 10,
   "metadata": {
    "collapsed": false
   },
   "outputs": [
    {
     "name": "stdout",
     "output_type": "stream",
     "text": [
      "441466 67446\n"
     ]
    }
   ],
   "source": [
    "ones = []\n",
    "zeros = []\n",
    "for prob in probas:\n",
    "    if prob > 0.5:\n",
    "        ones.append(prob)\n",
    "    else:\n",
    "        zeros.append(prob)\n",
    "        \n",
    "print len(ones), len(zeros)"
   ]
  },
  {
   "cell_type": "code",
   "execution_count": null,
   "metadata": {
    "collapsed": true
   },
   "outputs": [],
   "source": []
  },
  {
   "cell_type": "code",
   "execution_count": 11,
   "metadata": {
    "collapsed": false
   },
   "outputs": [],
   "source": [
    "import csv\n",
    "with open('algebra_2008_2009_submissiona.txt', 'wb') as csvfile:\n",
    "    spamwriter = csv.writer(csvfile, delimiter='\\t')\n",
    "    spamwriter.writerow(['Row', 'Correct First Attempt'])\n",
    "    for index, one_prob in enumerate(probas):\n",
    "        spamwriter.writerow([index+1, float(one_prob)])"
   ]
  },
  {
   "cell_type": "code",
   "execution_count": null,
   "metadata": {
    "collapsed": true
   },
   "outputs": [],
   "source": []
  }
 ],
 "metadata": {
  "kernelspec": {
   "display_name": "Python 2",
   "language": "python",
   "name": "python2"
  },
  "language_info": {
   "codemirror_mode": {
    "name": "ipython",
    "version": 2
   },
   "file_extension": ".py",
   "mimetype": "text/x-python",
   "name": "python",
   "nbconvert_exporter": "python",
   "pygments_lexer": "ipython2",
   "version": "2.7.6"
  }
 },
 "nbformat": 4,
 "nbformat_minor": 1
}
