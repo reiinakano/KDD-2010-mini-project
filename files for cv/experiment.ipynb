{
 "cells": [
  {
   "cell_type": "code",
   "execution_count": 1,
   "metadata": {
    "collapsed": false
   },
   "outputs": [],
   "source": [
    "import sys\n",
    "sys.path.append('C:\\Users\\Argel\\Documents\\Reii =)\\proj\\files for cv')\n",
    "import numpy as np\n",
    "import joblib\n",
    "from sklearn.grid_search import GridSearchCV\n",
    "from sklearn.linear_model import LogisticRegression\n",
    "from myscorer import my_custom_scorer\n",
    "from sklearn.preprocessing import StandardScaler\n",
    "from sklearn.pipeline import Pipeline"
   ]
  },
  {
   "cell_type": "code",
   "execution_count": 2,
   "metadata": {
    "collapsed": true
   },
   "outputs": [],
   "source": [
    "param_grid = [\n",
    "  {'logreg__C': [0.001, 0.1, 1, 10, 100, 1000], 'logreg__random_state': [0], 'logreg__verbose': [10]}\n",
    " ]"
   ]
  },
  {
   "cell_type": "code",
   "execution_count": 3,
   "metadata": {
    "collapsed": true
   },
   "outputs": [],
   "source": [
    "logreg = LogisticRegression(n_jobs=-1, verbose=2)\n",
    "scaler = StandardScaler(with_mean=False, copy=False)\n",
    "clf = Pipeline([('scaler', scaler), ('logreg', logreg)])"
   ]
  },
  {
   "cell_type": "code",
   "execution_count": 4,
   "metadata": {
    "collapsed": false
   },
   "outputs": [],
   "source": [
    "grid_search = GridSearchCV(clf, param_grid, scoring=my_custom_scorer, n_jobs=2, verbose=10, refit=False)"
   ]
  },
  {
   "cell_type": "code",
   "execution_count": 5,
   "metadata": {
    "collapsed": false
   },
   "outputs": [],
   "source": [
    "from sklearn.datasets import load_breast_cancer\n",
    "\n",
    "X = load_breast_cancer().data\n",
    "y = load_breast_cancer().target"
   ]
  },
  {
   "cell_type": "code",
   "execution_count": 6,
   "metadata": {
    "collapsed": false
   },
   "outputs": [
    {
     "name": "stdout",
     "output_type": "stream",
     "text": [
      "Fitting 3 folds for each of 6 candidates, totalling 18 fits\n"
     ]
    },
    {
     "name": "stderr",
     "output_type": "stream",
     "text": [
      "[Parallel(n_jobs=2)]: Done   1 tasks      | elapsed:    0.2s\n",
      "[Parallel(n_jobs=2)]: Done   4 tasks      | elapsed:    0.3s\n",
      "[Parallel(n_jobs=2)]: Batch computation too fast (0.1832s.) Setting batch_size=2.\n",
      "[Parallel(n_jobs=2)]: Done   9 tasks      | elapsed:    0.4s\n",
      "[Parallel(n_jobs=2)]: Batch computation too fast (0.1600s.) Setting batch_size=4.\n",
      "[Parallel(n_jobs=2)]: Done  16 out of  18 | elapsed:    0.5s remaining:    0.0s\n",
      "[Parallel(n_jobs=2)]: Done  16 out of  18 | elapsed:    0.6s remaining:    0.0s\n",
      "[Parallel(n_jobs=2)]: Done  16 out of  18 | elapsed:    0.7s remaining:    0.0s\n",
      "[Parallel(n_jobs=2)]: Done  18 out of  18 | elapsed:    0.7s finished\n"
     ]
    }
   ],
   "source": [
    "if __name__ == \"__main__\":\n",
    "    grid_search.fit(X, y)"
   ]
  },
  {
   "cell_type": "code",
   "execution_count": 7,
   "metadata": {
    "collapsed": false
   },
   "outputs": [
    {
     "data": {
      "text/plain": [
       "[mean: -0.37969, std: 0.00893, params: {'logreg__random_state': 0, 'logreg__verbose': 10, 'logreg__C': 0.001},\n",
       " mean: -0.18867, std: 0.01099, params: {'logreg__random_state': 0, 'logreg__verbose': 10, 'logreg__C': 0.1},\n",
       " mean: -0.16031, std: 0.00754, params: {'logreg__random_state': 0, 'logreg__verbose': 10, 'logreg__C': 1},\n",
       " mean: -0.16896, std: 0.01540, params: {'logreg__random_state': 0, 'logreg__verbose': 10, 'logreg__C': 10},\n",
       " mean: -0.18624, std: 0.02120, params: {'logreg__random_state': 0, 'logreg__verbose': 10, 'logreg__C': 100},\n",
       " mean: -0.20993, std: 0.03354, params: {'logreg__random_state': 0, 'logreg__verbose': 10, 'logreg__C': 1000}]"
      ]
     },
     "execution_count": 7,
     "metadata": {},
     "output_type": "execute_result"
    }
   ],
   "source": [
    "grid_search.grid_scores_"
   ]
  },
  {
   "cell_type": "code",
   "execution_count": 12,
   "metadata": {
    "collapsed": false
   },
   "outputs": [
    {
     "data": {
      "text/plain": [
       "\"Pipeline(steps=[('scaler', StandardScaler(copy=False, with_mean=False, with_std=True)), ('logreg', LogisticRegression(C=1.0, class_weight=None, dual=False, fit_intercept=True,\\n          intercept_scaling=1, max_iter=100, multi_class='ovr', n_jobs=-1,\\n          penalty='l2', random_state=None, solver='liblinear', tol=0.0001,\\n          verbose=2, warm_start=False))])\""
      ]
     },
     "execution_count": 12,
     "metadata": {},
     "output_type": "execute_result"
    }
   ],
   "source": [
    "str(clf)"
   ]
  },
  {
   "cell_type": "code",
   "execution_count": null,
   "metadata": {
    "collapsed": true
   },
   "outputs": [],
   "source": []
  }
 ],
 "metadata": {
  "anaconda-cloud": {},
  "kernelspec": {
   "display_name": "Python [default]",
   "language": "python",
   "name": "python2"
  },
  "language_info": {
   "codemirror_mode": {
    "name": "ipython",
    "version": 2
   },
   "file_extension": ".py",
   "mimetype": "text/x-python",
   "name": "python",
   "nbconvert_exporter": "python",
   "pygments_lexer": "ipython2",
   "version": "2.7.12"
  }
 },
 "nbformat": 4,
 "nbformat_minor": 1
}
