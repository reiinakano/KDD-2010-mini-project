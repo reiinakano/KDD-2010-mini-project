{
 "cells": [
  {
   "cell_type": "markdown",
   "metadata": {
    "collapsed": false
   },
   "source": [
    "##### import sys\n",
    "sys.path.append('/home/reiichiro/ipython_notebooks/Project/files for cv')\n",
    "import numpy as np\n",
    "import joblib\n",
    "from sklearn.grid_search import GridSearchCV\n",
    "from sklearn.linear_model import LogisticRegression\n",
    "from myscorer import my_custom_scorer\n",
    "from sklearn.preprocessing import StandardScaler\n",
    "from sklearn.pipeline import Pipeline"
   ]
  },
  {
   "cell_type": "code",
   "execution_count": 2,
   "metadata": {
    "collapsed": true
   },
   "outputs": [],
   "source": [
    "param_grid = [\n",
    "  {'logreg__C': [0.001, 0.1, 1, 10, 100, 1000], 'logreg__random_state': [0], 'logreg__verbose': [10]}\n",
    " ]"
   ]
  },
  {
   "cell_type": "code",
   "execution_count": 3,
   "metadata": {
    "collapsed": false
   },
   "outputs": [],
   "source": [
    "train_indices, test_indices = joblib.load('Pickles/cv_indices')"
   ]
  },
  {
   "cell_type": "code",
   "execution_count": 4,
   "metadata": {
    "collapsed": false
   },
   "outputs": [],
   "source": [
    "cv_iterable = [(train_indices, test_indices)]"
   ]
  },
  {
   "cell_type": "code",
   "execution_count": 5,
   "metadata": {
    "collapsed": true
   },
   "outputs": [],
   "source": [
    "logreg = LogisticRegression(n_jobs=-1, verbose=2)\n",
    "scaler = StandardScaler(with_mean=False, copy=False)\n",
    "clf = Pipeline([('scaler', scaler), ('logreg', logreg)])"
   ]
  },
  {
   "cell_type": "code",
   "execution_count": 6,
   "metadata": {
    "collapsed": false
   },
   "outputs": [],
   "source": [
    "grid_search = GridSearchCV(clf, param_grid, cv=cv_iterable, scoring=my_custom_scorer, n_jobs=2, verbose=10, refit=False)"
   ]
  },
  {
   "cell_type": "code",
   "execution_count": 7,
   "metadata": {
    "collapsed": false
   },
   "outputs": [
    {
     "data": {
      "text/plain": [
       "<8483920x217691 sparse matrix of type '<type 'numpy.float64'>'\n",
       "\twith 154318299 stored elements in Compressed Sparse Row format>"
      ]
     },
     "execution_count": 7,
     "metadata": {},
     "output_type": "execute_result"
    }
   ],
   "source": [
    "X = joblib.load('Pickles/Sparse_Basic+Temporal+Recency/train.pkl')\n",
    "X = X.tocsr()\n",
    "X"
   ]
  },
  {
   "cell_type": "code",
   "execution_count": 8,
   "metadata": {
    "collapsed": false
   },
   "outputs": [
    {
     "data": {
      "text/plain": [
       "array([0, 1, 1, ..., 1, 1, 1], dtype=int64)"
      ]
     },
     "execution_count": 8,
     "metadata": {},
     "output_type": "execute_result"
    }
   ],
   "source": [
    "y = joblib.load('Pickles/labels.pkl')\n",
    "y"
   ]
  },
  {
   "cell_type": "code",
   "execution_count": 9,
   "metadata": {
    "collapsed": false
   },
   "outputs": [
    {
     "name": "stdout",
     "output_type": "stream",
     "text": [
      "Fitting 1 folds for each of 6 candidates, totalling 6 fits\n"
     ]
    },
    {
     "name": "stderr",
     "output_type": "stream",
     "text": [
      "[Parallel(n_jobs=2)]: Done   1 tasks      | elapsed: 11.4min\n",
      "[Parallel(n_jobs=2)]: Done   7 out of   6 | elapsed: 24.1min remaining:    0.0s\n",
      "[Parallel(n_jobs=2)]: Done   7 out of   6 | elapsed: 34.9min remaining:    0.0s\n",
      "[Parallel(n_jobs=2)]: Done   7 out of   6 | elapsed: 35.5min remaining:    0.0s\n",
      "[Parallel(n_jobs=2)]: Done   6 out of   6 | elapsed: 35.5min finished\n"
     ]
    }
   ],
   "source": [
    "if __name__ == \"__main__\":\n",
    "    grid_search.fit(X, y)"
   ]
  },
  {
   "cell_type": "code",
   "execution_count": 10,
   "metadata": {
    "collapsed": false
   },
   "outputs": [
    {
     "data": {
      "text/plain": [
       "[mean: -0.29081, std: 0.00000, params: {'logreg__random_state': 0, 'logreg__verbose': 10, 'logreg__C': 0.001},\n",
       " mean: -0.29073, std: 0.00000, params: {'logreg__random_state': 0, 'logreg__verbose': 10, 'logreg__C': 0.1},\n",
       " mean: -0.29064, std: 0.00000, params: {'logreg__random_state': 0, 'logreg__verbose': 10, 'logreg__C': 1},\n",
       " mean: -0.29061, std: 0.00000, params: {'logreg__random_state': 0, 'logreg__verbose': 10, 'logreg__C': 10},\n",
       " mean: -0.29079, std: 0.00000, params: {'logreg__random_state': 0, 'logreg__verbose': 10, 'logreg__C': 100},\n",
       " mean: -0.29075, std: 0.00000, params: {'logreg__random_state': 0, 'logreg__verbose': 10, 'logreg__C': 1000}]"
      ]
     },
     "execution_count": 10,
     "metadata": {},
     "output_type": "execute_result"
    }
   ],
   "source": [
    "grid_search.grid_scores_"
   ]
  },
  {
   "cell_type": "code",
   "execution_count": 11,
   "metadata": {
    "collapsed": false
   },
   "outputs": [
    {
     "data": {
      "text/plain": [
       "['Pickles/Sparse_Basic+Temporal+Recency/GridSearches/LogReg/2.pkl']"
      ]
     },
     "execution_count": 11,
     "metadata": {},
     "output_type": "execute_result"
    }
   ],
   "source": [
    "joblib.dump(grid_search, 'Pickles/Sparse_Basic+Temporal+Recency/GridSearches/LogReg/2.pkl', compress=3)"
   ]
  },
  {
   "cell_type": "markdown",
   "metadata": {
    "collapsed": true
   },
   "source": [
    "## with l1"
   ]
  },
  {
   "cell_type": "code",
   "execution_count": 2,
   "metadata": {
    "collapsed": true
   },
   "outputs": [],
   "source": [
    "param_grid = [\n",
    "  {'logreg__C': [0.001, 0.1, 1, 10, 100, 1000], 'logreg__random_state': [0], 'logreg__verbose': [10], 'logreg__penalty': ['l1']}\n",
    " ]"
   ]
  },
  {
   "cell_type": "code",
   "execution_count": 3,
   "metadata": {
    "collapsed": true
   },
   "outputs": [],
   "source": [
    "train_indices, test_indices = joblib.load('Pickles/cv_indices')\n",
    "cv_iterable = [(train_indices, test_indices)]"
   ]
  },
  {
   "cell_type": "code",
   "execution_count": 4,
   "metadata": {
    "collapsed": true
   },
   "outputs": [],
   "source": [
    "logreg = LogisticRegression(n_jobs=-1, verbose=2)\n",
    "scaler = StandardScaler(with_mean=False, copy=False)\n",
    "clf = Pipeline([('scaler', scaler), ('logreg', logreg)])"
   ]
  },
  {
   "cell_type": "code",
   "execution_count": 5,
   "metadata": {
    "collapsed": true
   },
   "outputs": [],
   "source": [
    "grid_search = GridSearchCV(clf, param_grid, cv=cv_iterable, scoring=my_custom_scorer, n_jobs=1, verbose=10, refit=False)"
   ]
  },
  {
   "cell_type": "code",
   "execution_count": 6,
   "metadata": {
    "collapsed": false
   },
   "outputs": [
    {
     "data": {
      "text/plain": [
       "<8483920x217691 sparse matrix of type '<type 'numpy.float64'>'\n",
       "\twith 154318299 stored elements in Compressed Sparse Row format>"
      ]
     },
     "execution_count": 6,
     "metadata": {},
     "output_type": "execute_result"
    }
   ],
   "source": [
    "X = joblib.load('Pickles/Sparse_Basic+Temporal+Recency/train.pkl')\n",
    "X = X.tocsr()\n",
    "X"
   ]
  },
  {
   "cell_type": "code",
   "execution_count": null,
   "metadata": {
    "collapsed": false
   },
   "outputs": [
    {
     "data": {
      "text/plain": [
       "array([0, 1, 1, ..., 1, 1, 1], dtype=int64)"
      ]
     },
     "execution_count": 7,
     "metadata": {},
     "output_type": "execute_result"
    }
   ],
   "source": [
    "y = joblib.load('Pickles/labels.pkl')\n",
    "y"
   ]
  },
  {
   "cell_type": "code",
   "execution_count": null,
   "metadata": {
    "collapsed": false
   },
   "outputs": [
    {
     "name": "stdout",
     "output_type": "stream",
     "text": [
      "Fitting 1 folds for each of 6 candidates, totalling 6 fits\n",
      "[CV] logreg__random_state=0, logreg__verbose=10, logreg__C=0.001, logreg__penalty=l1 \n",
      "[LibLinear][CV]  logreg__random_state=0, logreg__verbose=10, logreg__C=0.001, logreg__penalty=l1, score=-0.289527 -12.2min\n",
      "[CV] logreg__random_state=0, logreg__verbose=10, logreg__C=0.1, logreg__penalty=l1 \n"
     ]
    },
    {
     "name": "stderr",
     "output_type": "stream",
     "text": [
      "[Parallel(n_jobs=1)]: Done   1 tasks       | elapsed: 12.2min\n"
     ]
    },
    {
     "name": "stdout",
     "output_type": "stream",
     "text": [
      "[LibLinear]"
     ]
    }
   ],
   "source": [
    "if __name__ == \"__main__\":\n",
    "    grid_search.fit(X, y)"
   ]
  },
  {
   "cell_type": "code",
   "execution_count": null,
   "metadata": {
    "collapsed": true
   },
   "outputs": [],
   "source": [
    "grid_search.grid_scores_"
   ]
  },
  {
   "cell_type": "code",
   "execution_count": null,
   "metadata": {
    "collapsed": true
   },
   "outputs": [],
   "source": [
    "joblib.dump(grid_search, 'Pickles/Sparse_Basic+Temporal+Recency/GridSearches/LogReg/1.pkl', compress=3)"
   ]
  },
  {
   "cell_type": "code",
   "execution_count": null,
   "metadata": {
    "collapsed": true
   },
   "outputs": [],
   "source": []
  }
 ],
 "metadata": {
  "anaconda-cloud": {},
  "kernelspec": {
   "display_name": "Python 2",
   "language": "python",
   "name": "python2"
  },
  "language_info": {
   "codemirror_mode": {
    "name": "ipython",
    "version": 2
   },
   "file_extension": ".py",
   "mimetype": "text/x-python",
   "name": "python",
   "nbconvert_exporter": "python",
   "pygments_lexer": "ipython2",
   "version": "2.7.6"
  }
 },
 "nbformat": 4,
 "nbformat_minor": 1
}
