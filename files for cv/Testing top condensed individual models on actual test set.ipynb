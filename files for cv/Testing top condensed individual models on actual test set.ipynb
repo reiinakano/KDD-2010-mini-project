{
 "cells": [
  {
   "cell_type": "code",
   "execution_count": 1,
   "metadata": {
    "collapsed": false
   },
   "outputs": [
    {
     "name": "stderr",
     "output_type": "stream",
     "text": [
      "Using Theano backend.\n"
     ]
    }
   ],
   "source": [
    "import numpy as np\n",
    "import pandas as pd\n",
    "import joblib\n",
    "from sklearn.ensemble import RandomForestClassifier\n",
    "from sklearn.linear_model import LogisticRegression\n",
    "from sklearn.preprocessing import StandardScaler\n",
    "from sklearn.pipeline import Pipeline\n",
    "from keras.wrappers.scikit_learn import KerasClassifier\n",
    "from keras.models import Sequential\n",
    "from keras.layers import Dense, Activation\n",
    "from keras.callbacks import ProgbarLogger\n",
    "from keras.callbacks import EarlyStopping\n"
   ]
  },
  {
   "cell_type": "code",
   "execution_count": 2,
   "metadata": {
    "collapsed": false
   },
   "outputs": [
    {
     "data": {
      "text/plain": [
       "(8483920L, 28L)"
      ]
     },
     "execution_count": 2,
     "metadata": {},
     "output_type": "execute_result"
    }
   ],
   "source": [
    "X = joblib.load('Pickles/Condensed_Basic+Temporal+Recency/train.pkl')\n",
    "X.shape"
   ]
  },
  {
   "cell_type": "code",
   "execution_count": 3,
   "metadata": {
    "collapsed": false
   },
   "outputs": [
    {
     "data": {
      "text/plain": [
       "(8483920L,)"
      ]
     },
     "execution_count": 3,
     "metadata": {},
     "output_type": "execute_result"
    }
   ],
   "source": [
    "y = joblib.load('Pickles/labels.pkl')\n",
    "y.shape"
   ]
  },
  {
   "cell_type": "code",
   "execution_count": 4,
   "metadata": {
    "collapsed": false
   },
   "outputs": [
    {
     "data": {
      "text/plain": [
       "(508912L, 28L)"
      ]
     },
     "execution_count": 4,
     "metadata": {},
     "output_type": "execute_result"
    }
   ],
   "source": [
    "X_test = joblib.load('Pickles/Condensed_Basic+Temporal+Recency/test.pkl')\n",
    "X_test.shape"
   ]
  },
  {
   "cell_type": "markdown",
   "metadata": {},
   "source": [
    "### RF1"
   ]
  },
  {
   "cell_type": "code",
   "execution_count": 5,
   "metadata": {
    "collapsed": true
   },
   "outputs": [],
   "source": [
    "# RF 100 estimators depth 16 score: 0.285517774123\n",
    "rf1 = RandomForestClassifier(n_estimators=100, max_depth=16, random_state=0, n_jobs=-1, verbose=10)"
   ]
  },
  {
   "cell_type": "code",
   "execution_count": 6,
   "metadata": {
    "collapsed": false,
    "scrolled": true
   },
   "outputs": [
    {
     "name": "stdout",
     "output_type": "stream",
     "text": [
      "building tree 1 of 100building tree 2 of 100\n",
      "\n",
      "building tree 3 of 100\n",
      "building tree 4 of 100\n",
      "building tree 5 of 100\n",
      "building tree 6 of 100\n",
      "building tree 7 of 100\n",
      "building tree 8 of 100\n",
      "building tree 9 of 100\n",
      "building tree 10 of 100\n"
     ]
    },
    {
     "name": "stderr",
     "output_type": "stream",
     "text": [
      "[Parallel(n_jobs=-1)]: Done   2 tasks      | elapsed:   50.9s\n"
     ]
    },
    {
     "name": "stdout",
     "output_type": "stream",
     "text": [
      "building tree 11 of 100\n",
      "building tree 12 of 100\n",
      "building tree 13 of 100\n",
      "building tree 14 of 100\n",
      "building tree 15 of 100\n",
      "building tree 16 of 100\n",
      "building tree 17 of 100\n"
     ]
    },
    {
     "name": "stderr",
     "output_type": "stream",
     "text": [
      "[Parallel(n_jobs=-1)]: Done   9 tasks      | elapsed:  1.6min\n"
     ]
    },
    {
     "name": "stdout",
     "output_type": "stream",
     "text": [
      "building tree 18 of 100\n",
      "building tree 19 of 100\n",
      "building tree 20 of 100\n",
      "building tree 21 of 100\n",
      "building tree 22 of 100\n",
      "building tree 23 of 100\n",
      "building tree 24 of 100\n"
     ]
    },
    {
     "name": "stderr",
     "output_type": "stream",
     "text": [
      "[Parallel(n_jobs=-1)]: Done  16 tasks      | elapsed:  1.9min\n"
     ]
    },
    {
     "name": "stdout",
     "output_type": "stream",
     "text": [
      "building tree 25 of 100\n",
      "building tree 26 of 100\n",
      "building tree 27 of 100\n",
      "building tree 28 of 100\n",
      "building tree 29 of 100\n",
      "building tree 30 of 100\n",
      "building tree 31 of 100\n",
      "building tree 32 of 100\n",
      "building tree 33 of 100\n"
     ]
    },
    {
     "name": "stderr",
     "output_type": "stream",
     "text": [
      "[Parallel(n_jobs=-1)]: Done  25 tasks      | elapsed:  3.5min\n"
     ]
    },
    {
     "name": "stdout",
     "output_type": "stream",
     "text": [
      "building tree 34 of 100\n",
      "building tree 35 of 100\n",
      "building tree 36 of 100\n",
      "building tree 37 of 100\n",
      "building tree 38 of 100\n",
      "building tree 39 of 100\n",
      "building tree 40 of 100\n",
      "building tree 41 of 100\n",
      "building tree 42 of 100\n"
     ]
    },
    {
     "name": "stderr",
     "output_type": "stream",
     "text": [
      "[Parallel(n_jobs=-1)]: Done  34 tasks      | elapsed:  4.4min\n"
     ]
    },
    {
     "name": "stdout",
     "output_type": "stream",
     "text": [
      "building tree 43 of 100\n",
      "building tree 44 of 100\n",
      "building tree 45 of 100\n",
      "building tree 46 of 100\n",
      "building tree 47 of 100\n",
      "building tree 48 of 100\n",
      "building tree 49 of 100\n",
      "building tree 50 of 100\n",
      "building tree 51 of 100\n",
      "building tree 52 of 100\n",
      "building tree 53 of 100\n"
     ]
    },
    {
     "name": "stderr",
     "output_type": "stream",
     "text": [
      "[Parallel(n_jobs=-1)]: Done  45 tasks      | elapsed:  5.4min\n"
     ]
    },
    {
     "name": "stdout",
     "output_type": "stream",
     "text": [
      "building tree 54 of 100\n",
      "building tree 55 of 100\n",
      "building tree 56 of 100\n",
      "building tree 57 of 100\n",
      "building tree 58 of 100\n",
      "building tree 59 of 100\n",
      "building tree 60 of 100\n",
      "building tree 61 of 100\n",
      "building tree 62 of 100\n",
      "building tree 63 of 100\n",
      "building tree 64 of 100\n"
     ]
    },
    {
     "name": "stderr",
     "output_type": "stream",
     "text": [
      "[Parallel(n_jobs=-1)]: Done  56 tasks      | elapsed:  6.6min\n"
     ]
    },
    {
     "name": "stdout",
     "output_type": "stream",
     "text": [
      "building tree 65 of 100\n",
      "building tree 66 of 100\n",
      "building tree 67 of 100\n",
      "building tree 68 of 100\n",
      "building tree 69 of 100\n",
      "building tree 70 of 100\n",
      "building tree 71 of 100\n",
      "building tree 72 of 100\n",
      "building tree 73 of 100\n",
      "building tree 74 of 100\n",
      "building tree 75 of 100\n",
      "building tree 76 of 100\n"
     ]
    },
    {
     "name": "stderr",
     "output_type": "stream",
     "text": [
      "[Parallel(n_jobs=-1)]: Done  69 tasks      | elapsed:  8.0min\n"
     ]
    },
    {
     "name": "stdout",
     "output_type": "stream",
     "text": [
      "building tree 77 of 100\n",
      "building tree 78 of 100\n",
      "building tree 79 of 100\n",
      "building tree 80 of 100\n",
      "building tree 81 of 100\n",
      "building tree 82 of 100\n",
      "building tree 83 of 100\n",
      "building tree 84 of 100\n",
      "building tree 85 of 100\n",
      "building tree 86 of 100\n",
      "building tree 87 of 100\n",
      "building tree 88 of 100\n",
      "building tree 89 of 100\n",
      "building tree 90 of 100\n"
     ]
    },
    {
     "name": "stderr",
     "output_type": "stream",
     "text": [
      "[Parallel(n_jobs=-1)]: Done  82 tasks      | elapsed:  9.7min\n"
     ]
    },
    {
     "name": "stdout",
     "output_type": "stream",
     "text": [
      "building tree 91 of 100\n",
      "building tree 92 of 100\n",
      "building tree 93 of 100\n",
      "building tree 94 of 100\n",
      "building tree 95 of 100\n",
      "building tree 96 of 100\n",
      "building tree 97 of 100\n",
      "building tree 98 of 100\n",
      "building tree 99 of 100\n",
      "building tree 100 of 100\n"
     ]
    },
    {
     "name": "stderr",
     "output_type": "stream",
     "text": [
      "[Parallel(n_jobs=-1)]: Done 100 out of 100 | elapsed: 11.2min finished\n"
     ]
    },
    {
     "data": {
      "text/plain": [
       "RandomForestClassifier(bootstrap=True, class_weight=None, criterion='gini',\n",
       "            max_depth=16, max_features='auto', max_leaf_nodes=None,\n",
       "            min_samples_leaf=1, min_samples_split=2,\n",
       "            min_weight_fraction_leaf=0.0, n_estimators=100, n_jobs=-1,\n",
       "            oob_score=False, random_state=0, verbose=10, warm_start=False)"
      ]
     },
     "execution_count": 6,
     "metadata": {},
     "output_type": "execute_result"
    }
   ],
   "source": [
    "rf1.fit(X, y)"
   ]
  },
  {
   "cell_type": "code",
   "execution_count": 9,
   "metadata": {
    "collapsed": false
   },
   "outputs": [
    {
     "data": {
      "text/plain": [
       "['Pickles/Condensed_Basic+Temporal+Recency/TrainedCLFs/RF/100e16d/model.pkl']"
      ]
     },
     "execution_count": 9,
     "metadata": {},
     "output_type": "execute_result"
    }
   ],
   "source": [
    "joblib.dump(rf1, 'Pickles/Condensed_Basic+Temporal+Recency/TrainedCLFs/RF/100e16d/model.pkl', compress=3)"
   ]
  },
  {
   "cell_type": "code",
   "execution_count": 10,
   "metadata": {
    "collapsed": false
   },
   "outputs": [
    {
     "name": "stderr",
     "output_type": "stream",
     "text": [
      "[Parallel(n_jobs=8)]: Done   2 tasks      | elapsed:    0.0s\n",
      "[Parallel(n_jobs=8)]: Done   9 tasks      | elapsed:    0.1s\n",
      "[Parallel(n_jobs=8)]: Done  16 tasks      | elapsed:    0.1s\n",
      "[Parallel(n_jobs=8)]: Done  25 tasks      | elapsed:    0.3s\n",
      "[Parallel(n_jobs=8)]: Done  34 tasks      | elapsed:    0.4s\n",
      "[Parallel(n_jobs=8)]: Done  45 tasks      | elapsed:    0.5s\n",
      "[Parallel(n_jobs=8)]: Done  56 tasks      | elapsed:    0.7s\n",
      "[Parallel(n_jobs=8)]: Done  69 tasks      | elapsed:    0.9s\n",
      "[Parallel(n_jobs=8)]: Done  82 tasks      | elapsed:    1.1s\n",
      "[Parallel(n_jobs=8)]: Done 100 out of 100 | elapsed:    1.3s finished\n"
     ]
    }
   ],
   "source": [
    "probas = rf1.predict_proba(X_test)"
   ]
  },
  {
   "cell_type": "code",
   "execution_count": 11,
   "metadata": {
    "collapsed": false
   },
   "outputs": [
    {
     "name": "stdout",
     "output_type": "stream",
     "text": [
      "488682 20230\n"
     ]
    }
   ],
   "source": [
    "ones = []\n",
    "zeros = []\n",
    "for zero_prob, one_prob in probas:\n",
    "    if one_prob > zero_prob:\n",
    "        ones.append(one_prob)\n",
    "    else:\n",
    "        zeros.append(one_prob)\n",
    "        \n",
    "print len(ones), len(zeros)\n",
    "\n",
    "import csv\n",
    "with open('Pickles/Condensed_Basic+Temporal+Recency/TrainedCLFs/RF/100e16d/algebra_2008_2009_submission.txt', 'wb') as csvfile:\n",
    "    spamwriter = csv.writer(csvfile, delimiter='\\t')\n",
    "    spamwriter.writerow(['Row', 'Correct First Attempt'])\n",
    "    for index, (zero_prob, one_prob) in enumerate(probas):\n",
    "        spamwriter.writerow([index+1, float(one_prob)])"
   ]
  },
  {
   "cell_type": "code",
   "execution_count": 12,
   "metadata": {
    "collapsed": true
   },
   "outputs": [],
   "source": [
    "del rf1"
   ]
  },
  {
   "cell_type": "markdown",
   "metadata": {},
   "source": [
    "### RF2"
   ]
  },
  {
   "cell_type": "code",
   "execution_count": 13,
   "metadata": {
    "collapsed": true
   },
   "outputs": [],
   "source": [
    "# RF 100 estimators depth 20 score: 0.282267113738\n",
    "rf2 = RandomForestClassifier(n_estimators=100, max_depth=20, random_state=0, n_jobs=-1, verbose=10)"
   ]
  },
  {
   "cell_type": "code",
   "execution_count": 14,
   "metadata": {
    "collapsed": false,
    "scrolled": true
   },
   "outputs": [
    {
     "name": "stdout",
     "output_type": "stream",
     "text": [
      "building tree 1 of 100building tree 2 of 100\n",
      "\n",
      "building tree 3 of 100\n",
      "building tree 4 of 100\n",
      "building tree 5 of 100\n",
      "building tree 6 of 100\n",
      "building tree 7 of 100\n",
      "building tree 8 of 100\n",
      "building tree 9 of 100\n",
      "building tree 10 of 100\n"
     ]
    },
    {
     "name": "stderr",
     "output_type": "stream",
     "text": [
      "[Parallel(n_jobs=-1)]: Done   2 tasks      | elapsed:   58.1s\n"
     ]
    },
    {
     "name": "stdout",
     "output_type": "stream",
     "text": [
      "building tree 11 of 100\n",
      "building tree 12 of 100\n",
      "building tree 13 of 100\n",
      "building tree 14 of 100\n",
      "building tree 15 of 100\n",
      "building tree 16 of 100\n"
     ]
    },
    {
     "name": "stderr",
     "output_type": "stream",
     "text": [
      "[Parallel(n_jobs=-1)]: Done   9 tasks      | elapsed:  1.9min\n"
     ]
    },
    {
     "name": "stdout",
     "output_type": "stream",
     "text": [
      "building tree 17 of 100\n",
      "building tree 18 of 100\n",
      "building tree 19 of 100\n",
      "building tree 20 of 100\n",
      "building tree 21 of 100\n",
      "building tree 22 of 100\n",
      "building tree 23 of 100\n",
      "building tree 24 of 100\n"
     ]
    },
    {
     "name": "stderr",
     "output_type": "stream",
     "text": [
      "[Parallel(n_jobs=-1)]: Done  16 tasks      | elapsed:  2.1min\n"
     ]
    },
    {
     "name": "stdout",
     "output_type": "stream",
     "text": [
      "building tree 25 of 100\n",
      "building tree 26 of 100\n",
      "building tree 27 of 100\n",
      "building tree 28 of 100\n",
      "building tree 29 of 100\n",
      "building tree 30 of 100\n",
      "building tree 31 of 100\n",
      "building tree 32 of 100\n",
      "building tree 33 of 100\n"
     ]
    },
    {
     "name": "stderr",
     "output_type": "stream",
     "text": [
      "[Parallel(n_jobs=-1)]: Done  25 tasks      | elapsed:  3.6min\n"
     ]
    },
    {
     "name": "stdout",
     "output_type": "stream",
     "text": [
      "building tree 34 of 100\n",
      "building tree 35 of 100\n",
      "building tree 36 of 100\n",
      "building tree 37 of 100\n",
      "building tree 38 of 100\n",
      "building tree 39 of 100\n",
      "building tree 40 of 100\n",
      "building tree 41 of 100\n",
      "building tree 42 of 100\n"
     ]
    },
    {
     "name": "stderr",
     "output_type": "stream",
     "text": [
      "[Parallel(n_jobs=-1)]: Done  34 tasks      | elapsed:  4.7min\n"
     ]
    },
    {
     "name": "stdout",
     "output_type": "stream",
     "text": [
      "building tree 43 of 100\n",
      "building tree 44 of 100\n",
      "building tree 45 of 100\n",
      "building tree 46 of 100\n",
      "building tree 47 of 100\n",
      "building tree 48 of 100\n",
      "building tree 49 of 100\n",
      "building tree 50 of 100\n",
      "building tree 51 of 100\n",
      "building tree 52 of 100\n",
      "building tree 53 of 100\n"
     ]
    },
    {
     "name": "stderr",
     "output_type": "stream",
     "text": [
      "[Parallel(n_jobs=-1)]: Done  45 tasks      | elapsed:  5.7min\n"
     ]
    },
    {
     "name": "stdout",
     "output_type": "stream",
     "text": [
      "building tree 54 of 100\n",
      "building tree 55 of 100\n",
      "building tree 56 of 100\n",
      "building tree 57 of 100\n",
      "building tree 58 of 100\n",
      "building tree 59 of 100\n",
      "building tree 60 of 100\n",
      "building tree 61 of 100\n",
      "building tree 62 of 100\n",
      "building tree 63 of 100\n",
      "building tree 64 of 100\n"
     ]
    },
    {
     "name": "stderr",
     "output_type": "stream",
     "text": [
      "[Parallel(n_jobs=-1)]: Done  56 tasks      | elapsed:  7.2min\n"
     ]
    },
    {
     "name": "stdout",
     "output_type": "stream",
     "text": [
      "building tree 65 of 100\n",
      "building tree 66 of 100\n",
      "building tree 67 of 100\n",
      "building tree 68 of 100\n",
      "building tree 69 of 100\n",
      "building tree 70 of 100\n",
      "building tree 71 of 100\n",
      "building tree 72 of 100\n",
      "building tree 73 of 100\n",
      "building tree 74 of 100\n",
      "building tree 75 of 100\n",
      "building tree 76 of 100\n",
      "building tree 77 of 100\n"
     ]
    },
    {
     "name": "stderr",
     "output_type": "stream",
     "text": [
      "[Parallel(n_jobs=-1)]: Done  69 tasks      | elapsed:  8.8min\n"
     ]
    },
    {
     "name": "stdout",
     "output_type": "stream",
     "text": [
      "building tree 78 of 100\n",
      "building tree 79 of 100\n",
      "building tree 80 of 100\n",
      "building tree 81 of 100\n",
      "building tree 82 of 100\n",
      "building tree 83 of 100\n",
      "building tree 84 of 100\n",
      "building tree 85 of 100\n",
      "building tree 86 of 100\n",
      "building tree 87 of 100\n",
      "building tree 88 of 100\n",
      "building tree 89 of 100\n",
      "building tree 90 of 100\n"
     ]
    },
    {
     "name": "stderr",
     "output_type": "stream",
     "text": [
      "[Parallel(n_jobs=-1)]: Done  82 tasks      | elapsed: 10.6min\n"
     ]
    },
    {
     "name": "stdout",
     "output_type": "stream",
     "text": [
      "building tree 91 of 100\n",
      "building tree 92 of 100\n",
      "building tree 93 of 100\n",
      "building tree 94 of 100\n",
      "building tree 95 of 100\n",
      "building tree 96 of 100\n",
      "building tree 97 of 100\n",
      "building tree 98 of 100\n",
      "building tree 99 of 100\n",
      "building tree 100 of 100\n"
     ]
    },
    {
     "name": "stderr",
     "output_type": "stream",
     "text": [
      "[Parallel(n_jobs=-1)]: Done 100 out of 100 | elapsed: 12.4min finished\n"
     ]
    },
    {
     "data": {
      "text/plain": [
       "RandomForestClassifier(bootstrap=True, class_weight=None, criterion='gini',\n",
       "            max_depth=20, max_features='auto', max_leaf_nodes=None,\n",
       "            min_samples_leaf=1, min_samples_split=2,\n",
       "            min_weight_fraction_leaf=0.0, n_estimators=100, n_jobs=-1,\n",
       "            oob_score=False, random_state=0, verbose=10, warm_start=False)"
      ]
     },
     "execution_count": 14,
     "metadata": {},
     "output_type": "execute_result"
    }
   ],
   "source": [
    "rf2.fit(X, y)"
   ]
  },
  {
   "cell_type": "code",
   "execution_count": 15,
   "metadata": {
    "collapsed": false
   },
   "outputs": [
    {
     "data": {
      "text/plain": [
       "['Pickles/Condensed_Basic+Temporal+Recency/TrainedCLFs/RF/100e20d/model.pkl']"
      ]
     },
     "execution_count": 15,
     "metadata": {},
     "output_type": "execute_result"
    }
   ],
   "source": [
    "joblib.dump(rf2, 'Pickles/Condensed_Basic+Temporal+Recency/TrainedCLFs/RF/100e20d/model.pkl', compress=3)"
   ]
  },
  {
   "cell_type": "code",
   "execution_count": 16,
   "metadata": {
    "collapsed": false
   },
   "outputs": [
    {
     "name": "stderr",
     "output_type": "stream",
     "text": [
      "[Parallel(n_jobs=8)]: Done   2 tasks      | elapsed:    0.0s\n",
      "[Parallel(n_jobs=8)]: Done   9 tasks      | elapsed:    0.2s\n",
      "[Parallel(n_jobs=8)]: Done  16 tasks      | elapsed:    0.2s\n",
      "[Parallel(n_jobs=8)]: Done  25 tasks      | elapsed:    0.5s\n",
      "[Parallel(n_jobs=8)]: Done  34 tasks      | elapsed:    0.7s\n",
      "[Parallel(n_jobs=8)]: Done  45 tasks      | elapsed:    0.9s\n",
      "[Parallel(n_jobs=8)]: Done  56 tasks      | elapsed:    1.1s\n",
      "[Parallel(n_jobs=8)]: Done  69 tasks      | elapsed:    1.4s\n",
      "[Parallel(n_jobs=8)]: Done  82 tasks      | elapsed:    1.7s\n",
      "[Parallel(n_jobs=8)]: Done 100 out of 100 | elapsed:    2.0s finished\n"
     ]
    }
   ],
   "source": [
    "probas = rf2.predict_proba(X_test)"
   ]
  },
  {
   "cell_type": "code",
   "execution_count": 17,
   "metadata": {
    "collapsed": false
   },
   "outputs": [
    {
     "name": "stdout",
     "output_type": "stream",
     "text": [
      "485863 23049\n"
     ]
    }
   ],
   "source": [
    "ones = []\n",
    "zeros = []\n",
    "for zero_prob, one_prob in probas:\n",
    "    if one_prob > zero_prob:\n",
    "        ones.append(one_prob)\n",
    "    else:\n",
    "        zeros.append(one_prob)\n",
    "        \n",
    "print len(ones), len(zeros)\n",
    "\n",
    "import csv\n",
    "with open('Pickles/Condensed_Basic+Temporal+Recency/TrainedCLFs/RF/100e20d/algebra_2008_2009_submission.txt', 'wb') as csvfile:\n",
    "    spamwriter = csv.writer(csvfile, delimiter='\\t')\n",
    "    spamwriter.writerow(['Row', 'Correct First Attempt'])\n",
    "    for index, (zero_prob, one_prob) in enumerate(probas):\n",
    "        spamwriter.writerow([index+1, float(one_prob)])"
   ]
  },
  {
   "cell_type": "code",
   "execution_count": 18,
   "metadata": {
    "collapsed": true
   },
   "outputs": [],
   "source": [
    "del rf2"
   ]
  },
  {
   "cell_type": "markdown",
   "metadata": {},
   "source": [
    "### RF3"
   ]
  },
  {
   "cell_type": "code",
   "execution_count": 19,
   "metadata": {
    "collapsed": true
   },
   "outputs": [],
   "source": [
    "# RF 100 estimators depth 25 score: 0.280943240282\n",
    "rf3 = RandomForestClassifier(n_estimators=100, max_depth=25, random_state=0, n_jobs=-1, verbose=10)"
   ]
  },
  {
   "cell_type": "code",
   "execution_count": 20,
   "metadata": {
    "collapsed": false,
    "scrolled": true
   },
   "outputs": [
    {
     "name": "stdout",
     "output_type": "stream",
     "text": [
      "building tree 1 of 100building tree 2 of 100\n",
      "\n",
      "building tree 3 of 100\n",
      "building tree 4 of 100\n",
      "building tree 5 of 100\n",
      "building tree 6 of 100\n",
      "building tree 7 of 100\n",
      "building tree 8 of 100\n",
      "building tree 9 of 100\n",
      "building tree 10 of 100\n"
     ]
    },
    {
     "name": "stderr",
     "output_type": "stream",
     "text": [
      "[Parallel(n_jobs=-1)]: Done   2 tasks      | elapsed:   59.6s\n"
     ]
    },
    {
     "name": "stdout",
     "output_type": "stream",
     "text": [
      "building tree 11 of 100\n",
      "building tree 12 of 100\n",
      "building tree 13 of 100\n",
      "building tree 14 of 100\n",
      "building tree 15 of 100\n",
      "building tree 16 of 100\n",
      "building tree 17 of 100\n"
     ]
    },
    {
     "name": "stderr",
     "output_type": "stream",
     "text": [
      "[Parallel(n_jobs=-1)]: Done   9 tasks      | elapsed:  2.0min\n"
     ]
    },
    {
     "name": "stdout",
     "output_type": "stream",
     "text": [
      "building tree 18 of 100\n",
      "building tree 19 of 100building tree 20 of 100\n",
      "\n",
      "building tree 21 of 100\n",
      "building tree 22 of 100\n",
      "building tree 23 of 100\n"
     ]
    },
    {
     "name": "stderr",
     "output_type": "stream",
     "text": [
      "[Parallel(n_jobs=-1)]: Done  16 tasks      | elapsed:  2.3min\n"
     ]
    },
    {
     "name": "stdout",
     "output_type": "stream",
     "text": [
      "building tree 24 of 100\n",
      "building tree 25 of 100\n",
      "building tree 26 of 100\n",
      "building tree 27 of 100\n",
      "building tree 28 of 100\n",
      "building tree 29 of 100\n",
      "building tree 30 of 100\n",
      "building tree 31 of 100\n",
      "building tree 32 of 100\n",
      "building tree 33 of 100\n"
     ]
    },
    {
     "name": "stderr",
     "output_type": "stream",
     "text": [
      "[Parallel(n_jobs=-1)]: Done  25 tasks      | elapsed:  4.1min\n"
     ]
    },
    {
     "name": "stdout",
     "output_type": "stream",
     "text": [
      "building tree 34 of 100\n",
      "building tree 35 of 100\n",
      "building tree 36 of 100\n",
      "building tree 37 of 100\n",
      "building tree 38 of 100\n",
      "building tree 39 of 100\n",
      "building tree 40 of 100\n",
      "building tree 41 of 100\n",
      "building tree 42 of 100\n"
     ]
    },
    {
     "name": "stderr",
     "output_type": "stream",
     "text": [
      "[Parallel(n_jobs=-1)]: Done  34 tasks      | elapsed:  5.2min\n"
     ]
    },
    {
     "name": "stdout",
     "output_type": "stream",
     "text": [
      "building tree 43 of 100\n",
      "building tree 44 of 100\n",
      "building tree 45 of 100\n",
      "building tree 46 of 100\n",
      "building tree 47 of 100\n",
      "building tree 48 of 100\n",
      "building tree 49 of 100\n",
      "building tree 50 of 100\n",
      "building tree 51 of 100\n",
      "building tree 52 of 100\n",
      "building tree 53 of 100\n"
     ]
    },
    {
     "name": "stderr",
     "output_type": "stream",
     "text": [
      "[Parallel(n_jobs=-1)]: Done  45 tasks      | elapsed:  6.3min\n"
     ]
    },
    {
     "name": "stdout",
     "output_type": "stream",
     "text": [
      "building tree 54 of 100\n",
      "building tree 55 of 100\n",
      "building tree 56 of 100\n",
      "building tree 57 of 100\n",
      "building tree 58 of 100\n",
      "building tree 59 of 100\n",
      "building tree 60 of 100\n",
      "building tree 61 of 100\n",
      "building tree 62 of 100\n",
      "building tree 63 of 100\n"
     ]
    },
    {
     "name": "stderr",
     "output_type": "stream",
     "text": [
      "[Parallel(n_jobs=-1)]: Done  56 tasks      | elapsed:  7.6min\n"
     ]
    },
    {
     "name": "stdout",
     "output_type": "stream",
     "text": [
      "building tree 64 of 100\n",
      "building tree 65 of 100\n",
      "building tree 66 of 100\n",
      "building tree 67 of 100\n",
      "building tree 68 of 100\n",
      "building tree 69 of 100\n",
      "building tree 70 of 100\n",
      "building tree 71 of 100\n",
      "building tree 72 of 100\n",
      "building tree 73 of 100\n",
      "building tree 74 of 100\n",
      "building tree 75 of 100\n",
      "building tree 76 of 100\n",
      "building tree 77 of 100\n"
     ]
    },
    {
     "name": "stderr",
     "output_type": "stream",
     "text": [
      "[Parallel(n_jobs=-1)]: Done  69 tasks      | elapsed:  9.5min\n"
     ]
    },
    {
     "name": "stdout",
     "output_type": "stream",
     "text": [
      "building tree 78 of 100\n",
      "building tree 79 of 100\n",
      "building tree 80 of 100\n",
      "building tree 81 of 100\n",
      "building tree 82 of 100\n",
      "building tree 83 of 100\n",
      "building tree 84 of 100\n",
      "building tree 85 of 100\n",
      "building tree 86 of 100\n",
      "building tree 87 of 100\n",
      "building tree 88 of 100\n",
      "building tree 89 of 100\n",
      "building tree 90 of 100\n"
     ]
    },
    {
     "name": "stderr",
     "output_type": "stream",
     "text": [
      "[Parallel(n_jobs=-1)]: Done  82 tasks      | elapsed: 11.5min\n"
     ]
    },
    {
     "name": "stdout",
     "output_type": "stream",
     "text": [
      "building tree 91 of 100\n",
      "building tree 92 of 100\n",
      "building tree 93 of 100\n",
      "building tree 94 of 100\n",
      "building tree 95 of 100\n",
      "building tree 96 of 100\n",
      "building tree 97 of 100\n",
      "building tree 98 of 100\n",
      "building tree 99 of 100\n",
      "building tree 100 of 100\n"
     ]
    },
    {
     "name": "stderr",
     "output_type": "stream",
     "text": [
      "[Parallel(n_jobs=-1)]: Done 100 out of 100 | elapsed: 13.4min finished\n"
     ]
    },
    {
     "data": {
      "text/plain": [
       "RandomForestClassifier(bootstrap=True, class_weight=None, criterion='gini',\n",
       "            max_depth=25, max_features='auto', max_leaf_nodes=None,\n",
       "            min_samples_leaf=1, min_samples_split=2,\n",
       "            min_weight_fraction_leaf=0.0, n_estimators=100, n_jobs=-1,\n",
       "            oob_score=False, random_state=0, verbose=10, warm_start=False)"
      ]
     },
     "execution_count": 20,
     "metadata": {},
     "output_type": "execute_result"
    }
   ],
   "source": [
    "rf3.fit(X, y)"
   ]
  },
  {
   "cell_type": "code",
   "execution_count": 21,
   "metadata": {
    "collapsed": false
   },
   "outputs": [
    {
     "data": {
      "text/plain": [
       "['Pickles/Condensed_Basic+Temporal+Recency/TrainedCLFs/RF/100e25d/model.pkl']"
      ]
     },
     "execution_count": 21,
     "metadata": {},
     "output_type": "execute_result"
    }
   ],
   "source": [
    "joblib.dump(rf3, 'Pickles/Condensed_Basic+Temporal+Recency/TrainedCLFs/RF/100e25d/model.pkl', compress=3)"
   ]
  },
  {
   "cell_type": "code",
   "execution_count": 22,
   "metadata": {
    "collapsed": false
   },
   "outputs": [
    {
     "name": "stderr",
     "output_type": "stream",
     "text": [
      "[Parallel(n_jobs=8)]: Done   2 tasks      | elapsed:    0.1s\n",
      "[Parallel(n_jobs=8)]: Done   9 tasks      | elapsed:    0.4s\n",
      "[Parallel(n_jobs=8)]: Done  16 tasks      | elapsed:    0.4s\n",
      "[Parallel(n_jobs=8)]: Done  25 tasks      | elapsed:    0.9s\n",
      "[Parallel(n_jobs=8)]: Done  34 tasks      | elapsed:    1.1s\n",
      "[Parallel(n_jobs=8)]: Done  45 tasks      | elapsed:    1.4s\n",
      "[Parallel(n_jobs=8)]: Done  56 tasks      | elapsed:    1.8s\n",
      "[Parallel(n_jobs=8)]: Done  69 tasks      | elapsed:    2.2s\n",
      "[Parallel(n_jobs=8)]: Done  82 tasks      | elapsed:    2.6s\n",
      "[Parallel(n_jobs=8)]: Done 100 out of 100 | elapsed:    3.1s finished\n"
     ]
    }
   ],
   "source": [
    "probas = rf3.predict_proba(X_test)"
   ]
  },
  {
   "cell_type": "code",
   "execution_count": 23,
   "metadata": {
    "collapsed": false
   },
   "outputs": [
    {
     "name": "stdout",
     "output_type": "stream",
     "text": [
      "483307 25605\n"
     ]
    }
   ],
   "source": [
    "ones = []\n",
    "zeros = []\n",
    "for zero_prob, one_prob in probas:\n",
    "    if one_prob > zero_prob:\n",
    "        ones.append(one_prob)\n",
    "    else:\n",
    "        zeros.append(one_prob)\n",
    "        \n",
    "print len(ones), len(zeros)\n",
    "\n",
    "import csv\n",
    "with open('Pickles/Condensed_Basic+Temporal+Recency/TrainedCLFs/RF/100e25d/algebra_2008_2009_submission.txt', 'wb') as csvfile:\n",
    "    spamwriter = csv.writer(csvfile, delimiter='\\t')\n",
    "    spamwriter.writerow(['Row', 'Correct First Attempt'])\n",
    "    for index, (zero_prob, one_prob) in enumerate(probas):\n",
    "        spamwriter.writerow([index+1, float(one_prob)])"
   ]
  },
  {
   "cell_type": "code",
   "execution_count": 24,
   "metadata": {
    "collapsed": true
   },
   "outputs": [],
   "source": [
    "del rf3"
   ]
  },
  {
   "cell_type": "markdown",
   "metadata": {},
   "source": [
    "### LR1"
   ]
  },
  {
   "cell_type": "code",
   "execution_count": 5,
   "metadata": {
    "collapsed": false
   },
   "outputs": [],
   "source": [
    "# LR penalty L2 C1\n",
    "lr = LogisticRegression(C=1, random_state=0, n_jobs=-1, verbose=10, penalty='l2')\n",
    "scaler = StandardScaler(with_mean=False, copy=False)\n",
    "clf = Pipeline([('scaler', scaler), ('logreg', lr)])"
   ]
  },
  {
   "cell_type": "code",
   "execution_count": 6,
   "metadata": {
    "collapsed": false
   },
   "outputs": [
    {
     "name": "stdout",
     "output_type": "stream",
     "text": [
      "[LibLinear]"
     ]
    },
    {
     "data": {
      "text/plain": [
       "Pipeline(steps=[('scaler', StandardScaler(copy=False, with_mean=False, with_std=True)), ('logreg', LogisticRegression(C=1, class_weight=None, dual=False, fit_intercept=True,\n",
       "          intercept_scaling=1, max_iter=100, multi_class='ovr', n_jobs=-1,\n",
       "          penalty='l2', random_state=0, solver='liblinear', tol=0.0001,\n",
       "          verbose=10, warm_start=False))])"
      ]
     },
     "execution_count": 6,
     "metadata": {},
     "output_type": "execute_result"
    }
   ],
   "source": [
    "clf.fit(X, y)"
   ]
  },
  {
   "cell_type": "code",
   "execution_count": 8,
   "metadata": {
    "collapsed": false
   },
   "outputs": [
    {
     "data": {
      "text/plain": [
       "['Pickles/Condensed_Basic+Temporal+Recency/TrainedCLFs/LogReg/L2C1/model.pkl']"
      ]
     },
     "execution_count": 8,
     "metadata": {},
     "output_type": "execute_result"
    }
   ],
   "source": [
    "joblib.dump(clf, 'Pickles/Condensed_Basic+Temporal+Recency/TrainedCLFs/LogReg/L2C1/model.pkl', compress=3)"
   ]
  },
  {
   "cell_type": "code",
   "execution_count": 9,
   "metadata": {
    "collapsed": false
   },
   "outputs": [
    {
     "data": {
      "text/plain": [
       "array([[ 0.0957235 ,  0.9042765 ],\n",
       "       [ 0.07876243,  0.92123757],\n",
       "       [ 0.0869372 ,  0.9130628 ],\n",
       "       ..., \n",
       "       [ 0.17551165,  0.82448835],\n",
       "       [ 0.03845353,  0.96154647],\n",
       "       [ 0.03727968,  0.96272032]])"
      ]
     },
     "execution_count": 9,
     "metadata": {},
     "output_type": "execute_result"
    }
   ],
   "source": [
    "probas = clf.predict_proba(X_test)\n",
    "probas"
   ]
  },
  {
   "cell_type": "code",
   "execution_count": 10,
   "metadata": {
    "collapsed": false
   },
   "outputs": [
    {
     "name": "stdout",
     "output_type": "stream",
     "text": [
      "488631 20281\n"
     ]
    }
   ],
   "source": [
    "ones = []\n",
    "zeros = []\n",
    "for zero_prob, one_prob in probas:\n",
    "    if one_prob > zero_prob:\n",
    "        ones.append(one_prob)\n",
    "    else:\n",
    "        zeros.append(one_prob)\n",
    "        \n",
    "print len(ones), len(zeros)\n",
    "\n",
    "import csv\n",
    "with open('Pickles/Condensed_Basic+Temporal+Recency/TrainedCLFs/LogReg/L2C1/algebra_2008_2009_submission.txt', 'wb') as csvfile:\n",
    "    spamwriter = csv.writer(csvfile, delimiter='\\t')\n",
    "    spamwriter.writerow(['Row', 'Correct First Attempt'])\n",
    "    for index, (zero_prob, one_prob) in enumerate(probas):\n",
    "        spamwriter.writerow([index+1, float(one_prob)])"
   ]
  },
  {
   "cell_type": "markdown",
   "metadata": {},
   "source": [
    "### NN1"
   ]
  },
  {
   "cell_type": "code",
   "execution_count": 7,
   "metadata": {
    "collapsed": false
   },
   "outputs": [
    {
     "data": {
      "text/plain": [
       "<keras.wrappers.scikit_learn.KerasClassifier at 0xc850ac8>"
      ]
     },
     "execution_count": 7,
     "metadata": {},
     "output_type": "execute_result"
    }
   ],
   "source": [
    "# '128 10 sigmoid adam': -0.29266022084908949\n",
    "def build_fn():\n",
    "    \n",
    "    np.random.seed(0)\n",
    "\n",
    "    model = Sequential([\n",
    "        Dense(14, input_dim=28),\n",
    "        Activation('sigmoid'),\n",
    "        Dense(1),\n",
    "        Activation('sigmoid'),\n",
    "    ])\n",
    "    \n",
    "\n",
    "    model.compile(loss='mse', optimizer='adam')\n",
    "    return model\n",
    "\n",
    "clf = KerasClassifier(build_fn, batch_size=128, \n",
    "                      nb_epoch=10, callbacks=[EarlyStopping(monitor='val_loss', patience=2)], \n",
    "                      validation_split=0.2, verbose=2)\n",
    "\n",
    "clf"
   ]
  },
  {
   "cell_type": "code",
   "execution_count": 8,
   "metadata": {
    "collapsed": false
   },
   "outputs": [
    {
     "name": "stdout",
     "output_type": "stream",
     "text": [
      "Train on 6787136 samples, validate on 1696784 samples\n",
      "Epoch 1/10\n",
      "22s - loss: 0.0974 - val_loss: 0.0943\n",
      "Epoch 2/10\n",
      "22s - loss: 0.0946 - val_loss: 0.0934\n",
      "Epoch 3/10\n",
      "22s - loss: 0.0942 - val_loss: 0.0935\n",
      "Epoch 4/10\n",
      "23s - loss: 0.0939 - val_loss: 0.0927\n",
      "Epoch 5/10\n",
      "23s - loss: 0.0937 - val_loss: 0.0922\n",
      "Epoch 6/10\n",
      "22s - loss: 0.0935 - val_loss: 0.0925\n",
      "Epoch 7/10\n",
      "22s - loss: 0.0934 - val_loss: 0.0921\n",
      "Epoch 8/10\n",
      "22s - loss: 0.0932 - val_loss: 0.0926\n",
      "Epoch 9/10\n",
      "22s - loss: 0.0931 - val_loss: 0.0921\n",
      "Epoch 10/10\n",
      "22s - loss: 0.0930 - val_loss: 0.0918\n"
     ]
    },
    {
     "data": {
      "text/plain": [
       "<keras.callbacks.History at 0x1c2a6dd8>"
      ]
     },
     "execution_count": 8,
     "metadata": {},
     "output_type": "execute_result"
    }
   ],
   "source": [
    "clf.fit(X, y)"
   ]
  },
  {
   "cell_type": "code",
   "execution_count": null,
   "metadata": {
    "collapsed": true
   },
   "outputs": [],
   "source": []
  },
  {
   "cell_type": "code",
   "execution_count": 9,
   "metadata": {
    "collapsed": false
   },
   "outputs": [
    {
     "data": {
      "text/plain": [
       "array([[ 0.09964371,  0.90035629],\n",
       "       [ 0.07567853,  0.92432147],\n",
       "       [ 0.09433371,  0.90566629],\n",
       "       ..., \n",
       "       [ 0.15998983,  0.84001017],\n",
       "       [ 0.04037535,  0.95962465],\n",
       "       [ 0.02696282,  0.97303718]], dtype=float32)"
      ]
     },
     "execution_count": 9,
     "metadata": {},
     "output_type": "execute_result"
    }
   ],
   "source": [
    "probas = clf.predict_proba(X_test)\n",
    "probas"
   ]
  },
  {
   "cell_type": "code",
   "execution_count": 11,
   "metadata": {
    "collapsed": false
   },
   "outputs": [
    {
     "name": "stdout",
     "output_type": "stream",
     "text": [
      "489875 19037\n"
     ]
    }
   ],
   "source": [
    "ones = []\n",
    "zeros = []\n",
    "for zero_prob, one_prob in probas:\n",
    "    if one_prob > zero_prob:\n",
    "        ones.append(one_prob)\n",
    "    else:\n",
    "        zeros.append(one_prob)\n",
    "        \n",
    "print len(ones), len(zeros)\n",
    "\n",
    "import csv\n",
    "with open('Pickles/Condensed_Basic+Temporal+Recency/TrainedCLFs/NNs/128,10,sigmoid,adam/algebra_2008_2009_submission.txt', 'wb') as csvfile:\n",
    "    spamwriter = csv.writer(csvfile, delimiter='\\t')\n",
    "    spamwriter.writerow(['Row', 'Correct First Attempt'])\n",
    "    for index, (zero_prob, one_prob) in enumerate(probas):\n",
    "        spamwriter.writerow([index+1, float(one_prob)])"
   ]
  },
  {
   "cell_type": "markdown",
   "metadata": {},
   "source": [
    "### NN2"
   ]
  },
  {
   "cell_type": "code",
   "execution_count": 12,
   "metadata": {
    "collapsed": false
   },
   "outputs": [
    {
     "data": {
      "text/plain": [
       "<keras.wrappers.scikit_learn.KerasClassifier at 0x1c749eb8>"
      ]
     },
     "execution_count": 12,
     "metadata": {},
     "output_type": "execute_result"
    }
   ],
   "source": [
    "# 128 10 sigmoid rmsprop': -0.2930172731217085\n",
    "def build_fn():\n",
    "    \n",
    "    np.random.seed(0)\n",
    "\n",
    "    model = Sequential([\n",
    "        Dense(14, input_dim=28),\n",
    "        Activation('sigmoid'),\n",
    "        Dense(1),\n",
    "        Activation('sigmoid'),\n",
    "    ])\n",
    "    \n",
    "\n",
    "    model.compile(loss='mse', optimizer='rmsprop')\n",
    "    return model\n",
    "\n",
    "clf = KerasClassifier(build_fn, batch_size=128, \n",
    "                      nb_epoch=10, callbacks=[EarlyStopping(monitor='val_loss', patience=2)], \n",
    "                      validation_split=0.2, verbose=2)\n",
    "\n",
    "clf"
   ]
  },
  {
   "cell_type": "code",
   "execution_count": 13,
   "metadata": {
    "collapsed": false
   },
   "outputs": [
    {
     "name": "stdout",
     "output_type": "stream",
     "text": [
      "Train on 6787136 samples, validate on 1696784 samples\n",
      "Epoch 1/10\n",
      "23s - loss: 0.0971 - val_loss: 0.0947\n",
      "Epoch 2/10\n",
      "22s - loss: 0.0948 - val_loss: 0.0958\n",
      "Epoch 3/10\n",
      "21s - loss: 0.0944 - val_loss: 0.0941\n",
      "Epoch 4/10\n",
      "22s - loss: 0.0942 - val_loss: 0.0929\n",
      "Epoch 5/10\n",
      "22s - loss: 0.0940 - val_loss: 0.0937\n",
      "Epoch 6/10\n",
      "22s - loss: 0.0938 - val_loss: 0.0923\n",
      "Epoch 7/10\n",
      "22s - loss: 0.0937 - val_loss: 0.0926\n",
      "Epoch 8/10\n",
      "22s - loss: 0.0936 - val_loss: 0.0926\n",
      "Epoch 9/10\n",
      "22s - loss: 0.0935 - val_loss: 0.0922\n",
      "Epoch 10/10\n",
      "22s - loss: 0.0934 - val_loss: 0.0921\n"
     ]
    },
    {
     "data": {
      "text/plain": [
       "<keras.callbacks.History at 0x2277cf60>"
      ]
     },
     "execution_count": 13,
     "metadata": {},
     "output_type": "execute_result"
    }
   ],
   "source": [
    "clf.fit(X, y)"
   ]
  },
  {
   "cell_type": "code",
   "execution_count": 16,
   "metadata": {
    "collapsed": true
   },
   "outputs": [],
   "source": [
    "clf.model.save('Pickles/Condensed_Basic+Temporal+Recency/TrainedCLFs/NNs/128,10,sigmoid,rmsprop/model.h5')"
   ]
  },
  {
   "cell_type": "code",
   "execution_count": 14,
   "metadata": {
    "collapsed": false
   },
   "outputs": [
    {
     "data": {
      "text/plain": [
       "array([[ 0.10492706,  0.89507294],\n",
       "       [ 0.08394498,  0.91605502],\n",
       "       [ 0.1010887 ,  0.8989113 ],\n",
       "       ..., \n",
       "       [ 0.16536951,  0.83463049],\n",
       "       [ 0.03687316,  0.96312684],\n",
       "       [ 0.02449334,  0.97550666]], dtype=float32)"
      ]
     },
     "execution_count": 14,
     "metadata": {},
     "output_type": "execute_result"
    }
   ],
   "source": [
    "probas = clf.predict_proba(X_test)\n",
    "probas"
   ]
  },
  {
   "cell_type": "code",
   "execution_count": 15,
   "metadata": {
    "collapsed": false
   },
   "outputs": [
    {
     "name": "stdout",
     "output_type": "stream",
     "text": [
      "490216 18696\n"
     ]
    }
   ],
   "source": [
    "ones = []\n",
    "zeros = []\n",
    "for zero_prob, one_prob in probas:\n",
    "    if one_prob > zero_prob:\n",
    "        ones.append(one_prob)\n",
    "    else:\n",
    "        zeros.append(one_prob)\n",
    "        \n",
    "print len(ones), len(zeros)\n",
    "\n",
    "import csv\n",
    "with open('Pickles/Condensed_Basic+Temporal+Recency/TrainedCLFs/NNs/128,10,sigmoid,rmsprop/algebra_2008_2009_submission.txt', 'wb') as csvfile:\n",
    "    spamwriter = csv.writer(csvfile, delimiter='\\t')\n",
    "    spamwriter.writerow(['Row', 'Correct First Attempt'])\n",
    "    for index, (zero_prob, one_prob) in enumerate(probas):\n",
    "        spamwriter.writerow([index+1, float(one_prob)])"
   ]
  },
  {
   "cell_type": "markdown",
   "metadata": {},
   "source": [
    "### NN3"
   ]
  },
  {
   "cell_type": "code",
   "execution_count": 17,
   "metadata": {
    "collapsed": false
   },
   "outputs": [
    {
     "data": {
      "text/plain": [
       "<keras.wrappers.scikit_learn.KerasClassifier at 0x1c7eb400>"
      ]
     },
     "execution_count": 17,
     "metadata": {},
     "output_type": "execute_result"
    }
   ],
   "source": [
    "# 128 20 sigmoid adam': -0.29182912138253392\n",
    "def build_fn():\n",
    "    \n",
    "    np.random.seed(0)\n",
    "\n",
    "    model = Sequential([\n",
    "        Dense(18, input_dim=28),\n",
    "        Activation('sigmoid'),\n",
    "        Dense(8), \n",
    "        Activation('sigmoid'),\n",
    "        Dense(1),\n",
    "        Activation('sigmoid'),\n",
    "    ])\n",
    "    \n",
    "\n",
    "    model.compile(loss='mse', optimizer='adam')\n",
    "    return model\n",
    "\n",
    "clf = KerasClassifier(build_fn, batch_size=128, \n",
    "                      nb_epoch=20, callbacks=[EarlyStopping(monitor='val_loss', patience=2)], \n",
    "                      validation_split=0.2, verbose=2)\n",
    "\n",
    "clf"
   ]
  },
  {
   "cell_type": "code",
   "execution_count": 18,
   "metadata": {
    "collapsed": false
   },
   "outputs": [
    {
     "name": "stdout",
     "output_type": "stream",
     "text": [
      "Train on 6787136 samples, validate on 1696784 samples\n",
      "Epoch 1/20\n",
      "30s - loss: 0.0969 - val_loss: 0.0939\n",
      "Epoch 2/20\n",
      "29s - loss: 0.0945 - val_loss: 0.0937\n",
      "Epoch 3/20\n",
      "30s - loss: 0.0941 - val_loss: 0.0929\n",
      "Epoch 4/20\n",
      "29s - loss: 0.0938 - val_loss: 0.0925\n",
      "Epoch 5/20\n",
      "29s - loss: 0.0936 - val_loss: 0.0934\n",
      "Epoch 6/20\n",
      "28s - loss: 0.0934 - val_loss: 0.0919\n",
      "Epoch 7/20\n",
      "29s - loss: 0.0932 - val_loss: 0.0920\n",
      "Epoch 8/20\n",
      "28s - loss: 0.0931 - val_loss: 0.0917\n",
      "Epoch 9/20\n",
      "29s - loss: 0.0930 - val_loss: 0.0924\n",
      "Epoch 10/20\n",
      "29s - loss: 0.0929 - val_loss: 0.0916\n",
      "Epoch 11/20\n",
      "29s - loss: 0.0929 - val_loss: 0.0917\n",
      "Epoch 12/20\n",
      "30s - loss: 0.0928 - val_loss: 0.0919\n",
      "Epoch 13/20\n",
      "30s - loss: 0.0927 - val_loss: 0.0917\n"
     ]
    },
    {
     "data": {
      "text/plain": [
       "<keras.callbacks.History at 0x20b3c2b0>"
      ]
     },
     "execution_count": 18,
     "metadata": {},
     "output_type": "execute_result"
    }
   ],
   "source": [
    "clf.fit(X, y)"
   ]
  },
  {
   "cell_type": "code",
   "execution_count": 19,
   "metadata": {
    "collapsed": true
   },
   "outputs": [],
   "source": [
    "clf.model.save('Pickles/Condensed_Basic+Temporal+Recency/TrainedCLFs/NNs/2layer,128,20,sigmoid,adam/model.h5')"
   ]
  },
  {
   "cell_type": "code",
   "execution_count": 20,
   "metadata": {
    "collapsed": false
   },
   "outputs": [
    {
     "data": {
      "text/plain": [
       "array([[ 0.1364221 ,  0.8635779 ],\n",
       "       [ 0.10726118,  0.89273882],\n",
       "       [ 0.11770296,  0.88229704],\n",
       "       ..., \n",
       "       [ 0.1907326 ,  0.8092674 ],\n",
       "       [ 0.04761374,  0.95238626],\n",
       "       [ 0.033243  ,  0.966757  ]], dtype=float32)"
      ]
     },
     "execution_count": 20,
     "metadata": {},
     "output_type": "execute_result"
    }
   ],
   "source": [
    "probas = clf.predict_proba(X_test)\n",
    "probas"
   ]
  },
  {
   "cell_type": "code",
   "execution_count": 21,
   "metadata": {
    "collapsed": false
   },
   "outputs": [
    {
     "name": "stdout",
     "output_type": "stream",
     "text": [
      "485041 23871\n"
     ]
    }
   ],
   "source": [
    "ones = []\n",
    "zeros = []\n",
    "for zero_prob, one_prob in probas:\n",
    "    if one_prob > zero_prob:\n",
    "        ones.append(one_prob)\n",
    "    else:\n",
    "        zeros.append(one_prob)\n",
    "        \n",
    "print len(ones), len(zeros)\n",
    "\n",
    "import csv\n",
    "with open('Pickles/Condensed_Basic+Temporal+Recency/TrainedCLFs/NNs/2layer,128,20,sigmoid,adam/algebra_2008_2009_submission.txt', 'wb') as csvfile:\n",
    "    spamwriter = csv.writer(csvfile, delimiter='\\t')\n",
    "    spamwriter.writerow(['Row', 'Correct First Attempt'])\n",
    "    for index, (zero_prob, one_prob) in enumerate(probas):\n",
    "        spamwriter.writerow([index+1, float(one_prob)])"
   ]
  },
  {
   "cell_type": "markdown",
   "metadata": {},
   "source": [
    "### NN4"
   ]
  },
  {
   "cell_type": "code",
   "execution_count": 22,
   "metadata": {
    "collapsed": false
   },
   "outputs": [
    {
     "data": {
      "text/plain": [
       "<keras.wrappers.scikit_learn.KerasClassifier at 0x25a13630>"
      ]
     },
     "execution_count": 22,
     "metadata": {},
     "output_type": "execute_result"
    }
   ],
   "source": [
    "# 128 20 relu adam\n",
    "def build_fn():\n",
    "    \n",
    "    np.random.seed(0)\n",
    "\n",
    "    model = Sequential([\n",
    "        Dense(18, input_dim=28),\n",
    "        Activation('relu'),\n",
    "        Dense(8), \n",
    "        Activation('relu'),\n",
    "        Dense(1),\n",
    "        Activation('sigmoid'),\n",
    "    ])\n",
    "    \n",
    "\n",
    "    model.compile(loss='mse', optimizer='adam')\n",
    "    return model\n",
    "\n",
    "clf = KerasClassifier(build_fn, batch_size=128, \n",
    "                      nb_epoch=20, callbacks=[EarlyStopping(monitor='val_loss', patience=2)], \n",
    "                      validation_split=0.2, verbose=2)\n",
    "\n",
    "clf"
   ]
  },
  {
   "cell_type": "code",
   "execution_count": 23,
   "metadata": {
    "collapsed": false
   },
   "outputs": [
    {
     "name": "stdout",
     "output_type": "stream",
     "text": [
      "Train on 6787136 samples, validate on 1696784 samples\n",
      "Epoch 1/20\n",
      "23s - loss: 0.0962 - val_loss: 0.0939\n",
      "Epoch 2/20\n",
      "23s - loss: 0.0943 - val_loss: 0.0939\n",
      "Epoch 3/20\n",
      "23s - loss: 0.0938 - val_loss: 0.0924\n",
      "Epoch 4/20\n",
      "23s - loss: 0.0935 - val_loss: 0.0920\n",
      "Epoch 5/20\n",
      "23s - loss: 0.0933 - val_loss: 0.0928\n",
      "Epoch 6/20\n",
      "23s - loss: 0.0933 - val_loss: 0.0918\n",
      "Epoch 7/20\n",
      "22s - loss: 0.0932 - val_loss: 0.0924\n",
      "Epoch 8/20\n",
      "22s - loss: 0.0931 - val_loss: 0.0917\n",
      "Epoch 9/20\n",
      "23s - loss: 0.0931 - val_loss: 0.0928\n",
      "Epoch 10/20\n",
      "23s - loss: 0.0930 - val_loss: 0.0916\n",
      "Epoch 11/20\n",
      "23s - loss: 0.0930 - val_loss: 0.0917\n",
      "Epoch 12/20\n",
      "22s - loss: 0.0929 - val_loss: 0.0936\n",
      "Epoch 13/20\n",
      "22s - loss: 0.0929 - val_loss: 0.0919\n"
     ]
    },
    {
     "data": {
      "text/plain": [
       "<keras.callbacks.History at 0x25b7a438>"
      ]
     },
     "execution_count": 23,
     "metadata": {},
     "output_type": "execute_result"
    }
   ],
   "source": [
    "clf.fit(X, y)"
   ]
  },
  {
   "cell_type": "code",
   "execution_count": 24,
   "metadata": {
    "collapsed": true
   },
   "outputs": [],
   "source": [
    "clf.model.save('Pickles/Condensed_Basic+Temporal+Recency/TrainedCLFs/NNs/2layer,128,20,relu,adam/model.h5')"
   ]
  },
  {
   "cell_type": "code",
   "execution_count": 25,
   "metadata": {
    "collapsed": false
   },
   "outputs": [
    {
     "data": {
      "text/plain": [
       "array([[ 0.15134156,  0.84865844],\n",
       "       [ 0.1356765 ,  0.8643235 ],\n",
       "       [ 0.12426996,  0.87573004],\n",
       "       ..., \n",
       "       [ 0.20480365,  0.79519635],\n",
       "       [ 0.06222171,  0.93777829],\n",
       "       [ 0.04833567,  0.95166433]], dtype=float32)"
      ]
     },
     "execution_count": 25,
     "metadata": {},
     "output_type": "execute_result"
    }
   ],
   "source": [
    "probas = clf.predict_proba(X_test)\n",
    "probas"
   ]
  },
  {
   "cell_type": "code",
   "execution_count": 26,
   "metadata": {
    "collapsed": false
   },
   "outputs": [
    {
     "name": "stdout",
     "output_type": "stream",
     "text": [
      "485641 23271\n"
     ]
    }
   ],
   "source": [
    "ones = []\n",
    "zeros = []\n",
    "for zero_prob, one_prob in probas:\n",
    "    if one_prob > zero_prob:\n",
    "        ones.append(one_prob)\n",
    "    else:\n",
    "        zeros.append(one_prob)\n",
    "        \n",
    "print len(ones), len(zeros)\n",
    "\n",
    "import csv\n",
    "with open('Pickles/Condensed_Basic+Temporal+Recency/TrainedCLFs/NNs/2layer,128,20,relu,adam/algebra_2008_2009_submission.txt', 'wb') as csvfile:\n",
    "    spamwriter = csv.writer(csvfile, delimiter='\\t')\n",
    "    spamwriter.writerow(['Row', 'Correct First Attempt'])\n",
    "    for index, (zero_prob, one_prob) in enumerate(probas):\n",
    "        spamwriter.writerow([index+1, float(one_prob)])"
   ]
  },
  {
   "cell_type": "code",
   "execution_count": null,
   "metadata": {
    "collapsed": true
   },
   "outputs": [],
   "source": []
  }
 ],
 "metadata": {
  "anaconda-cloud": {},
  "kernelspec": {
   "display_name": "Python 2",
   "language": "python",
   "name": "python2"
  },
  "language_info": {
   "codemirror_mode": {
    "name": "ipython",
    "version": 2
   },
   "file_extension": ".py",
   "mimetype": "text/x-python",
   "name": "python",
   "nbconvert_exporter": "python",
   "pygments_lexer": "ipython2",
   "version": "2.7.6"
  }
 },
 "nbformat": 4,
 "nbformat_minor": 1
}
