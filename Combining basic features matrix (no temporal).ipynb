{
 "cells": [
  {
   "cell_type": "code",
   "execution_count": 1,
   "metadata": {
    "collapsed": true
   },
   "outputs": [],
   "source": [
    "import joblib\n",
    "import numpy as np\n",
    "from scipy.sparse import hstack"
   ]
  },
  {
   "cell_type": "code",
   "execution_count": 2,
   "metadata": {
    "collapsed": true
   },
   "outputs": [],
   "source": [
    "problem_view_sparse = joblib.load('algebra_2005_2008_pickles/problem_view_sparse.compressed')"
   ]
  },
  {
   "cell_type": "code",
   "execution_count": 3,
   "metadata": {
    "collapsed": true
   },
   "outputs": [],
   "source": [
    "student_id_sparse = joblib.load('algebra_2005_2008_pickles/student_id_sparse.compressed')"
   ]
  },
  {
   "cell_type": "code",
   "execution_count": 4,
   "metadata": {
    "collapsed": true
   },
   "outputs": [],
   "source": [
    "unit_sparse = joblib.load('algebra_2005_2008_pickles/unit_sparse.compressed')"
   ]
  },
  {
   "cell_type": "code",
   "execution_count": 5,
   "metadata": {
    "collapsed": true
   },
   "outputs": [],
   "source": [
    "section_sparse = joblib.load('algebra_2005_2008_pickles/section_sparse.compressed')"
   ]
  },
  {
   "cell_type": "code",
   "execution_count": 6,
   "metadata": {
    "collapsed": false
   },
   "outputs": [],
   "source": [
    "problem_name_sparse = joblib.load('algebra_2005_2008_pickles/problem_name_sparse.compressed')"
   ]
  },
  {
   "cell_type": "code",
   "execution_count": 7,
   "metadata": {
    "collapsed": true
   },
   "outputs": [],
   "source": [
    "step_name_sparse = joblib.load('algebra_2005_2008_pickles/step_name_sparse.compressed')"
   ]
  },
  {
   "cell_type": "code",
   "execution_count": 8,
   "metadata": {
    "collapsed": true
   },
   "outputs": [],
   "source": [
    "kc_sparse = joblib.load('algebra_2005_2008_pickles/kc_sparse.compressed')"
   ]
  },
  {
   "cell_type": "code",
   "execution_count": 9,
   "metadata": {
    "collapsed": true
   },
   "outputs": [],
   "source": [
    "kc_traced_sparse = joblib.load('algebra_2005_2008_pickles/kc_traced_sparse.compressed')"
   ]
  },
  {
   "cell_type": "code",
   "execution_count": 10,
   "metadata": {
    "collapsed": true
   },
   "outputs": [],
   "source": [
    "kc_rules_sparse = joblib.load('algebra_2005_2008_pickles/kc_rules_sparse.compressed')"
   ]
  },
  {
   "cell_type": "code",
   "execution_count": 11,
   "metadata": {
    "collapsed": true
   },
   "outputs": [],
   "source": [
    "opp_sparse = joblib.load('algebra_2005_2008_pickles/opp_sparse.compressed')"
   ]
  },
  {
   "cell_type": "code",
   "execution_count": 12,
   "metadata": {
    "collapsed": true
   },
   "outputs": [],
   "source": [
    "opp_traced_sparse = joblib.load('algebra_2005_2008_pickles/opp_traced_sparse.compressed')"
   ]
  },
  {
   "cell_type": "code",
   "execution_count": 13,
   "metadata": {
    "collapsed": true
   },
   "outputs": [],
   "source": [
    "opp_rules_sparse = joblib.load('algebra_2005_2008_pickles/opp_rules_sparse.compressed')"
   ]
  },
  {
   "cell_type": "code",
   "execution_count": 15,
   "metadata": {
    "collapsed": false
   },
   "outputs": [
    {
     "data": {
      "text/plain": [
       "<8483920x217673 sparse matrix of type '<type 'numpy.float64'>'\n",
       "\twith 98816798 stored elements in COOrdinate format>"
      ]
     },
     "execution_count": 15,
     "metadata": {},
     "output_type": "execute_result"
    }
   ],
   "source": [
    "complete_feature_matrix = hstack([student_id_sparse, unit_sparse, section_sparse, problem_name_sparse,\n",
    "                                 step_name_sparse, kc_sparse, kc_traced_sparse, kc_rules_sparse,\n",
    "                                 opp_sparse, opp_traced_sparse, opp_rules_sparse, problem_view_sparse])\n",
    "complete_feature_matrix"
   ]
  },
  {
   "cell_type": "code",
   "execution_count": 16,
   "metadata": {
    "collapsed": false
   },
   "outputs": [
    {
     "data": {
      "text/plain": [
       "['algebra_2005_2008_pickles/basic_features_matrix_(no_temporal).compressed']"
      ]
     },
     "execution_count": 16,
     "metadata": {},
     "output_type": "execute_result"
    }
   ],
   "source": [
    "joblib.dump(complete_feature_matrix, 'algebra_2005_2008_pickles/basic_features_matrix_(no_temporal).compressed', compress=3)"
   ]
  },
  {
   "cell_type": "code",
   "execution_count": null,
   "metadata": {
    "collapsed": true
   },
   "outputs": [],
   "source": []
  }
 ],
 "metadata": {
  "kernelspec": {
   "display_name": "Python 2",
   "language": "python",
   "name": "python2"
  },
  "language_info": {
   "codemirror_mode": {
    "name": "ipython",
    "version": 2
   },
   "file_extension": ".py",
   "mimetype": "text/x-python",
   "name": "python",
   "nbconvert_exporter": "python",
   "pygments_lexer": "ipython2",
   "version": "2.7.6"
  }
 },
 "nbformat": 4,
 "nbformat_minor": 1
}
