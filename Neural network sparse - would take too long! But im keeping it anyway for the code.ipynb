{
 "cells": [
  {
   "cell_type": "code",
   "execution_count": 1,
   "metadata": {
    "collapsed": false
   },
   "outputs": [
    {
     "name": "stderr",
     "output_type": "stream",
     "text": [
      "Using Theano backend.\n"
     ]
    }
   ],
   "source": [
    "import joblib\n",
    "import keras\n",
    "import numpy as np"
   ]
  },
  {
   "cell_type": "code",
   "execution_count": 2,
   "metadata": {
    "collapsed": false
   },
   "outputs": [],
   "source": [
    "#complete_features_matrix = joblib.load('files for cv/Pickles/Sparse_Basic+Temporal+Recency/train_csr.pkl')\n",
    "#complete_features_matrix"
   ]
  },
  {
   "cell_type": "code",
   "execution_count": 3,
   "metadata": {
    "collapsed": true
   },
   "outputs": [],
   "source": [
    "#labels = joblib.load('algebra_2005_2008_pickles/labels.compressed')"
   ]
  },
  {
   "cell_type": "code",
   "execution_count": 4,
   "metadata": {
    "collapsed": true
   },
   "outputs": [],
   "source": [
    "def sample_generator(batch_size=2):\n",
    "    print 'Loading sparse matrix'\n",
    "    complete_features_matrix = joblib.load('files for cv/Pickles/Sparse_Basic+Temporal+Recency/train_csr.pkl')\n",
    "    print type(complete_features_matrix)\n",
    "    labels = joblib.load('algebra_2005_2008_pickles/labels.compressed')\n",
    "    print 'Sparse matrix loaded'\n",
    "    while True:\n",
    "        print 'Generating sequence'\n",
    "        sequence = np.arange(8483920)\n",
    "        print 'Shuffling sequence'\n",
    "        np.random.shuffle(sequence)\n",
    "        for i in range(0, 8483920-batch_size, batch_size):\n",
    "            indices = sequence[i:i+batch_size]\n",
    "            yield (complete_features_matrix[indices, :].todense(), labels[indices])"
   ]
  },
  {
   "cell_type": "code",
   "execution_count": 5,
   "metadata": {
    "collapsed": false
   },
   "outputs": [],
   "source": [
    "#for index, x in enumerate(sample_generator()):\n",
    "#    print x, x[0].shape, x[1].shape\n",
    "#    if index > 1:\n",
    "#        break\n"
   ]
  },
  {
   "cell_type": "code",
   "execution_count": 6,
   "metadata": {
    "collapsed": true
   },
   "outputs": [],
   "source": [
    "from keras.models import Sequential\n",
    "from keras.layers import Dense, Activation\n",
    "from keras.callbacks import ProgbarLogger\n",
    "\n",
    "model = Sequential([\n",
    "    Dense(100, input_dim=217691),\n",
    "    Activation('sigmoid'),\n",
    "    Dense(1),\n",
    "    Activation('sigmoid'),\n",
    "])\n",
    "\n",
    "model.compile(loss='mean_squared_error', optimizer='rmsprop')"
   ]
  },
  {
   "cell_type": "code",
   "execution_count": null,
   "metadata": {
    "collapsed": false
   },
   "outputs": [
    {
     "name": "stderr",
     "output_type": "stream",
     "text": [
      "/usr/local/lib/python2.7/dist-packages/keras/models.py:848: UserWarning: The \"nb_worker\" argument is deprecated when pickle_safe is False\n",
      "  warnings.warn('The \"nb_worker\" argument is deprecated when pickle_safe is False')\n"
     ]
    },
    {
     "name": "stdout",
     "output_type": "stream",
     "text": [
      "Loading sparse matrixEpoch 1/2\n",
      "\n",
      "<class 'scipy.sparse.csr.csr_matrix'>\n",
      "Sparse matrix loaded\n",
      "Generating sequence\n",
      "Shuffling sequence\n"
     ]
    },
    {
     "name": "stderr",
     "output_type": "stream",
     "text": [
      "/usr/local/lib/python2.7/dist-packages/numpy/core/fromnumeric.py:2699: VisibleDeprecationWarning: `rank` is deprecated; use the `ndim` attribute or function instead. To find the rank of a matrix see `numpy.linalg.matrix_rank`.\n",
      "  VisibleDeprecationWarning)\n"
     ]
    },
    {
     "name": "stdout",
     "output_type": "stream",
     "text": [
      "    280/8483920 [..............................] - ETA: 2812330s - loss: 0.1482"
     ]
    }
   ],
   "source": [
    "history = model.fit_generator(sample_generator(8), 8483920, 2, nb_worker=2, pickle_safe=False)"
   ]
  },
  {
   "cell_type": "code",
   "execution_count": null,
   "metadata": {
    "collapsed": true
   },
   "outputs": [],
   "source": []
  },
  {
   "cell_type": "code",
   "execution_count": null,
   "metadata": {
    "collapsed": true
   },
   "outputs": [],
   "source": []
  }
 ],
 "metadata": {
  "kernelspec": {
   "display_name": "Python 2",
   "language": "python",
   "name": "python2"
  },
  "language_info": {
   "codemirror_mode": {
    "name": "ipython",
    "version": 2
   },
   "file_extension": ".py",
   "mimetype": "text/x-python",
   "name": "python",
   "nbconvert_exporter": "python",
   "pygments_lexer": "ipython2",
   "version": "2.7.6"
  }
 },
 "nbformat": 4,
 "nbformat_minor": 1
}
